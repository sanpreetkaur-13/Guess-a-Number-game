{
 "cells": [
  {
   "cell_type": "code",
   "execution_count": 1,
   "metadata": {},
   "outputs": [],
   "source": [
    "import random\n"
   ]
  },
  {
   "cell_type": "code",
   "execution_count": 2,
   "metadata": {},
   "outputs": [],
   "source": [
    "randNumber = random.randint(1, 100)\n",
    "userGuess = None\n",
    "guesses = 0\n"
   ]
  },
  {
   "cell_type": "code",
   "execution_count": 4,
   "metadata": {},
   "outputs": [
    {
     "name": "stdout",
     "output_type": "stream",
     "text": [
      "Enter your guess: 67\n",
      "You guessed it wrong! Enter a larger number\n",
      "Enter your guess: 80\n",
      "You guessed it wrong! Enter a larger number\n",
      "Enter your guess: 89\n",
      "You guessed it wrong! Enter a smaller number\n",
      "Enter your guess: 85\n",
      "You guessed it wrong! Enter a smaller number\n",
      "Enter your guess: 83\n",
      "You guessed it right!\n"
     ]
    }
   ],
   "source": [
    "\n",
    "while(userGuess != randNumber):\n",
    "    userGuess = int(input(\"Enter your guess: \"))\n",
    "    guesses += 1\n",
    "    if(userGuess==randNumber):\n",
    "        print(\"You guessed it right!\")\n",
    "    else:\n",
    "        if(userGuess>randNumber):\n",
    "            print(\"You guessed it wrong! Enter a smaller number\")\n",
    "        else:\n",
    "            print(\"You guessed it wrong! Enter a larger number\")"
   ]
  },
  {
   "cell_type": "markdown",
   "metadata": {},
   "source": [
    "print(\"f'you guessed in {guesses} chances\") #wrong syntax for ftsream usage"
   ]
  },
  {
   "cell_type": "code",
   "execution_count": 5,
   "metadata": {},
   "outputs": [
    {
     "name": "stdout",
     "output_type": "stream",
     "text": [
      "You guessed the number in 12 guesses\n"
     ]
    }
   ],
   "source": [
    "print(f\"You guessed the number in {guesses} guesses\")"
   ]
  },
  {
   "cell_type": "code",
   "execution_count": 6,
   "metadata": {},
   "outputs": [
    {
     "name": "stdout",
     "output_type": "stream",
     "text": [
      "Enter your guess: 45\n",
      "You guessed it wrong! Enter a smaller number\n",
      "Enter your guess: 38\n",
      "You guessed it wrong! Enter a larger number\n",
      "Enter your guess: 40\n",
      "You guessed it wrong! Enter a smaller number\n",
      "Enter your guess: 39\n",
      "You guessed it right!\n",
      "You guessed the number in 4 guesses\n",
      "WANT TO PLAY ONCE MORE. IF yes press 'y' else any other charactery\n",
      "Enter your guess: 5\n",
      "You guessed it wrong! Enter a larger number\n",
      "Enter your guess: 56\n",
      "You guessed it wrong! Enter a smaller number\n",
      "Enter your guess: 40\n",
      "You guessed it wrong! Enter a larger number\n",
      "Enter your guess: 45\n",
      "You guessed it wrong! Enter a smaller number\n",
      "Enter your guess: 42\n",
      "You guessed it wrong! Enter a smaller number\n",
      "Enter your guess: 41\n",
      "You guessed it right!\n",
      "You guessed the number in 6 guesses\n",
      "WANT TO PLAY ONCE MORE. IF yes press 'y' else any other charactery\n",
      "Enter your guess: 56\n",
      "You guessed it wrong! Enter a smaller number\n",
      "Enter your guess: 45\n",
      "You guessed it wrong! Enter a smaller number\n",
      "Enter your guess: 34\n",
      "You guessed it wrong! Enter a larger number\n",
      "Enter your guess: 38\n",
      "You guessed it wrong! Enter a larger number\n",
      "Enter your guess: 40\n",
      "You guessed it wrong! Enter a larger number\n",
      "Enter your guess: 42\n",
      "You guessed it wrong! Enter a larger number\n",
      "Enter your guess: 43\n",
      "You guessed it wrong! Enter a larger number\n",
      "Enter your guess: 44\n",
      "You guessed it right!\n",
      "You guessed the number in 8 guesses\n",
      "WANT TO PLAY ONCE MORE. IF yes press 'y' else any other characterfg\n",
      "You choosed to quit the game\n"
     ]
    }
   ],
   "source": [
    "fun='y'\n",
    "\n",
    "while(fun=='y'):\n",
    "    randNumber = random.randint(1, 100)\n",
    "    userGuess = None\n",
    "    guesses = 0\n",
    "\n",
    "    while(userGuess != randNumber):\n",
    "        userGuess = int(input(\"Enter your guess: \"))\n",
    "        guesses += 1\n",
    "        if(userGuess==randNumber):\n",
    "            print(\"You guessed it right!\")\n",
    "        else:\n",
    "            if(userGuess>randNumber):\n",
    "                print(\"You guessed it wrong! Enter a smaller number\")\n",
    "            else:\n",
    "                print(\"You guessed it wrong! Enter a larger number\")\n",
    "    print(f\"You guessed the number in {guesses} guesses\")\n",
    "    fun=input(\"WANT TO PLAY ONCE MORE. IF yes press 'y' else any other character\")\n",
    "    if(fun!='y'):\n",
    "        print(\"You choosed to quit the game\")\n",
    "    \n",
    "    "
   ]
  },
  {
   "cell_type": "code",
   "execution_count": null,
   "metadata": {},
   "outputs": [],
   "source": []
  }
 ],
 "metadata": {
  "kernelspec": {
   "display_name": "Python 3",
   "language": "python",
   "name": "python3"
  },
  "language_info": {
   "codemirror_mode": {
    "name": "ipython",
    "version": 3
   },
   "file_extension": ".py",
   "mimetype": "text/x-python",
   "name": "python",
   "nbconvert_exporter": "python",
   "pygments_lexer": "ipython3",
   "version": "3.7.6"
  }
 },
 "nbformat": 4,
 "nbformat_minor": 4
}
